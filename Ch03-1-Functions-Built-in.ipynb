{
 "cells": [
  {
   "cell_type": "markdown",
   "metadata": {},
   "source": [
    "## Built-in Functions\n",
    "<a href=\"https://colab.research.google.com/github/rambasnet/FDSPython-Notebooks/blob/master/Ch03-1-Functions-Built-in.ipynb\" target=\"_parent\"><img src=\"https://colab.research.google.com/assets/colab-badge.svg\" alt=\"Open In Colab\"/></a>\n",
    "\n",
    "- named sequence of code that does some specific task or a function\n",
    "- we'll learn how to define our own functions in [User Defined Functions chapter](./Ch03-3-Functions-UserDefined.ipynb)\n",
    "- some built-in functions we've used so far: `type( ), int( ), float( ), str( ), input( ), print( )`, etc.\n",
    "- Python provides a list of built-in functions that are readily available for use:\n",
    "https://docs.python.org/3/library/functions.html\n",
    "- below are examples of some built-in functions that may be useful to know"
   ]
  },
  {
   "cell_type": "markdown",
   "metadata": {},
   "source": [
    "### bin(x)\n",
    "- converts an integer number $x$ to a binary string prefixed with \"0b\"."
   ]
  },
  {
   "cell_type": "code",
   "execution_count": 1,
   "metadata": {},
   "outputs": [
    {
     "data": {
      "text/plain": [
       "'0b11'"
      ]
     },
     "execution_count": 1,
     "metadata": {},
     "output_type": "execute_result"
    }
   ],
   "source": [
    "bin(3)"
   ]
  },
  {
   "cell_type": "markdown",
   "metadata": {},
   "source": [
    "### format(value, format_spec)\n",
    "- formats the give value using format spec"
   ]
  },
  {
   "cell_type": "code",
   "execution_count": 2,
   "metadata": {},
   "outputs": [
    {
     "name": "stdout",
     "output_type": "stream",
     "text": [
      "Help on built-in function format in module builtins:\n",
      "\n",
      "format(value, format_spec='', /)\n",
      "    Return value.__format__(format_spec)\n",
      "    \n",
      "    format_spec defaults to the empty string.\n",
      "    See the Format Specification Mini-Language section of help('FORMATTING') for\n",
      "    details.\n",
      "\n"
     ]
    }
   ],
   "source": [
    "help(format)"
   ]
  },
  {
   "cell_type": "code",
   "execution_count": 2,
   "metadata": {},
   "outputs": [
    {
     "name": "stdout",
     "output_type": "stream",
     "text": [
      "0b11\n",
      "11\n"
     ]
    }
   ],
   "source": [
    "# If prefix \"0b is desired or not, use either of the following ways\n",
    "print(format(3, '#b'))\n",
    "print(format(3, 'b'))"
   ]
  },
  {
   "cell_type": "markdown",
   "metadata": {},
   "source": [
    "### chr( uniCode )\n",
    "- returns the string representing a character whose Unicode code point is the integer uniCode\n",
    "- inverse of ord(character)"
   ]
  },
  {
   "cell_type": "code",
   "execution_count": 5,
   "metadata": {},
   "outputs": [
    {
     "name": "stdout",
     "output_type": "stream",
     "text": [
      "A\n",
      "a\n",
      "€\n",
      "°\n"
     ]
    }
   ],
   "source": [
    "print(chr(65))\n",
    "print(chr(97))\n",
    "print(chr(8364))\n",
    "print(chr(176))"
   ]
  },
  {
   "cell_type": "markdown",
   "metadata": {},
   "source": [
    "### globals() and locals()\n",
    "- globals() returns a dictionary representing the current global symbol table\n",
    "- locals() returns a dictionary representing the current local symbol table"
   ]
  },
  {
   "cell_type": "code",
   "execution_count": 6,
   "metadata": {
    "scrolled": true
   },
   "outputs": [
    {
     "data": {
      "text/plain": [
       "{'__name__': '__main__',\n",
       " '__doc__': 'Automatically created module for IPython interactive environment',\n",
       " '__package__': None,\n",
       " '__loader__': None,\n",
       " '__spec__': None,\n",
       " '__builtin__': <module 'builtins' (built-in)>,\n",
       " '__builtins__': <module 'builtins' (built-in)>,\n",
       " '_ih': ['',\n",
       "  'bin(3)',\n",
       "  'help(format)',\n",
       "  'print(ord(°))',\n",
       "  \"print(ord('°'))\",\n",
       "  'print(chr(65))\\nprint(chr(97))\\nprint(chr(8364))\\nprint(chr(176))',\n",
       "  'globals()'],\n",
       " '_oh': {1: '0b11'},\n",
       " '_dh': ['F:\\\\Python-Fundamentals'],\n",
       " 'In': ['',\n",
       "  'bin(3)',\n",
       "  'help(format)',\n",
       "  'print(ord(°))',\n",
       "  \"print(ord('°'))\",\n",
       "  'print(chr(65))\\nprint(chr(97))\\nprint(chr(8364))\\nprint(chr(176))',\n",
       "  'globals()'],\n",
       " 'Out': {1: '0b11'},\n",
       " 'get_ipython': <bound method InteractiveShell.get_ipython of <ipykernel.zmqshell.ZMQInteractiveShell object at 0x0000028750440EB0>>,\n",
       " 'exit': <IPython.core.autocall.ZMQExitAutocall at 0x287504f9850>,\n",
       " 'quit': <IPython.core.autocall.ZMQExitAutocall at 0x287504f9850>,\n",
       " '_': '0b11',\n",
       " '__': '',\n",
       " '___': '',\n",
       " '_i': 'print(chr(65))\\nprint(chr(97))\\nprint(chr(8364))\\nprint(chr(176))',\n",
       " '_ii': \"print(ord('°'))\",\n",
       " '_iii': 'print(ord(°))',\n",
       " '_i1': 'bin(3)',\n",
       " '_1': '0b11',\n",
       " '_i2': 'help(format)',\n",
       " '_i3': 'print(ord(°))',\n",
       " '_i4': \"print(ord('°'))\",\n",
       " '_i5': 'print(chr(65))\\nprint(chr(97))\\nprint(chr(8364))\\nprint(chr(176))',\n",
       " '_i6': 'globals()'}"
      ]
     },
     "execution_count": 6,
     "metadata": {},
     "output_type": "execute_result"
    }
   ],
   "source": [
    "globals()"
   ]
  },
  {
   "cell_type": "code",
   "execution_count": 7,
   "metadata": {},
   "outputs": [
    {
     "data": {
      "text/plain": [
       "{'__name__': '__main__',\n",
       " '__doc__': 'Automatically created module for IPython interactive environment',\n",
       " '__package__': None,\n",
       " '__loader__': None,\n",
       " '__spec__': None,\n",
       " '__builtin__': <module 'builtins' (built-in)>,\n",
       " '__builtins__': <module 'builtins' (built-in)>,\n",
       " '_ih': ['',\n",
       "  'bin(3)',\n",
       "  'help(format)',\n",
       "  'print(ord(°))',\n",
       "  \"print(ord('°'))\",\n",
       "  'print(chr(65))\\nprint(chr(97))\\nprint(chr(8364))\\nprint(chr(176))',\n",
       "  'globals()',\n",
       "  'locals()'],\n",
       " '_oh': {1: '0b11', 6: {...}},\n",
       " '_dh': ['F:\\\\Python-Fundamentals'],\n",
       " 'In': ['',\n",
       "  'bin(3)',\n",
       "  'help(format)',\n",
       "  'print(ord(°))',\n",
       "  \"print(ord('°'))\",\n",
       "  'print(chr(65))\\nprint(chr(97))\\nprint(chr(8364))\\nprint(chr(176))',\n",
       "  'globals()',\n",
       "  'locals()'],\n",
       " 'Out': {1: '0b11', 6: {...}},\n",
       " 'get_ipython': <bound method InteractiveShell.get_ipython of <ipykernel.zmqshell.ZMQInteractiveShell object at 0x0000028750440EB0>>,\n",
       " 'exit': <IPython.core.autocall.ZMQExitAutocall at 0x287504f9850>,\n",
       " 'quit': <IPython.core.autocall.ZMQExitAutocall at 0x287504f9850>,\n",
       " '_': {...},\n",
       " '__': '0b11',\n",
       " '___': '',\n",
       " '_i': 'globals()',\n",
       " '_ii': 'print(chr(65))\\nprint(chr(97))\\nprint(chr(8364))\\nprint(chr(176))',\n",
       " '_iii': \"print(ord('°'))\",\n",
       " '_i1': 'bin(3)',\n",
       " '_1': '0b11',\n",
       " '_i2': 'help(format)',\n",
       " '_i3': 'print(ord(°))',\n",
       " '_i4': \"print(ord('°'))\",\n",
       " '_i5': 'print(chr(65))\\nprint(chr(97))\\nprint(chr(8364))\\nprint(chr(176))',\n",
       " '_i6': 'globals()',\n",
       " '_6': {...},\n",
       " '_i7': 'locals()'}"
      ]
     },
     "execution_count": 7,
     "metadata": {},
     "output_type": "execute_result"
    }
   ],
   "source": [
    "locals()"
   ]
  },
  {
   "cell_type": "markdown",
   "metadata": {},
   "source": [
    "### hex(x)\n",
    "- convert an integer number to a lowercase hexadecimal string prefixed with \"0x\""
   ]
  },
  {
   "cell_type": "code",
   "execution_count": 5,
   "metadata": {},
   "outputs": [
    {
     "name": "stdout",
     "output_type": "stream",
     "text": [
      "0x2a\n",
      "-0x2a\n"
     ]
    }
   ],
   "source": [
    "print(hex(42))\n",
    "print(hex(-42))"
   ]
  },
  {
   "cell_type": "code",
   "execution_count": 11,
   "metadata": {},
   "outputs": [
    {
     "name": "stdout",
     "output_type": "stream",
     "text": [
      "0xaf\n",
      "ff\n",
      "FF\n"
     ]
    }
   ],
   "source": [
    "# Other ways\n",
    "print(format(175, '#x'))\n",
    "print(format(255, 'x'))\n",
    "print(format(255, 'X'))"
   ]
  },
  {
   "cell_type": "markdown",
   "metadata": {},
   "source": [
    "### oct(x)\n",
    "- return an octal string representation with \"0o\" prefix of a given integer x"
   ]
  },
  {
   "cell_type": "code",
   "execution_count": 7,
   "metadata": {},
   "outputs": [
    {
     "name": "stdout",
     "output_type": "stream",
     "text": [
      "0o144\n"
     ]
    }
   ],
   "source": [
    "print(oct(100))"
   ]
  },
  {
   "cell_type": "code",
   "execution_count": 8,
   "metadata": {},
   "outputs": [
    {
     "name": "stdout",
     "output_type": "stream",
     "text": [
      "0o12\n",
      "12\n"
     ]
    }
   ],
   "source": [
    "print(format(10, '#o'))\n",
    "print(format(10, 'o'))"
   ]
  },
  {
   "cell_type": "markdown",
   "metadata": {},
   "source": [
    "### ord(c)\n",
    "- return an integer representing the Unicode code of a given Unicode character"
   ]
  },
  {
   "cell_type": "code",
   "execution_count": 9,
   "metadata": {},
   "outputs": [
    {
     "name": "stdout",
     "output_type": "stream",
     "text": [
      "32\n",
      "126\n"
     ]
    }
   ],
   "source": [
    "print(ord(' '))\n",
    "print(ord('~'))"
   ]
  },
  {
   "cell_type": "code",
   "execution_count": 4,
   "metadata": {},
   "outputs": [
    {
     "name": "stdout",
     "output_type": "stream",
     "text": [
      "176\n"
     ]
    }
   ],
   "source": [
    "print(ord('°'))"
   ]
  },
  {
   "cell_type": "markdown",
   "metadata": {},
   "source": [
    "### id(object)\n",
    "- return the 'identity' of an object\n",
    "- guaranteed unique integer and constant thoughout its lifetime"
   ]
  },
  {
   "cell_type": "code",
   "execution_count": 19,
   "metadata": {},
   "outputs": [],
   "source": [
    "x = 10\n",
    "y=10"
   ]
  },
  {
   "cell_type": "code",
   "execution_count": 23,
   "metadata": {},
   "outputs": [],
   "source": [
    "x=\"10\"\n",
    "y=\"10\""
   ]
  },
  {
   "cell_type": "code",
   "execution_count": 24,
   "metadata": {},
   "outputs": [
    {
     "name": "stdout",
     "output_type": "stream",
     "text": [
      "2780132007472\n",
      "2780132007472\n"
     ]
    }
   ],
   "source": [
    "print(id(x))\n",
    "print(id(y))"
   ]
  },
  {
   "cell_type": "markdown",
   "metadata": {},
   "source": [
    "### divmod(a, b)\n",
    "- given two non-complex numbers as arguments, return a pair of numbers as tuple consisting of their quotient and remainder using integer division"
   ]
  },
  {
   "cell_type": "code",
   "execution_count": 12,
   "metadata": {},
   "outputs": [
    {
     "name": "stdout",
     "output_type": "stream",
     "text": [
      "(2, 1)\n",
      "2 1\n"
     ]
    }
   ],
   "source": [
    "print(divmod(7, 3)) # Return (quotient, remainder)\n",
    "quotient, remainder = divmod(7, 3)\n",
    "print(quotient, remainder)"
   ]
  },
  {
   "cell_type": "code",
   "execution_count": 27,
   "metadata": {},
   "outputs": [
    {
     "name": "stdout",
     "output_type": "stream",
     "text": [
      "2\n",
      "1\n"
     ]
    }
   ],
   "source": [
    "quotient2 = 7 // 3\n",
    "print(quotient2)\n",
    "remainder2 = 7 % 3\n",
    "print(remainder2)"
   ]
  },
  {
   "cell_type": "markdown",
   "metadata": {},
   "source": [
    "### eval(expression, globals=None, locals=None)\n",
    "- the expression argument is parsed and evaluated as Python expression\n",
    "- syntax errors reported as exceptions"
   ]
  },
  {
   "cell_type": "code",
   "execution_count": 31,
   "metadata": {},
   "outputs": [
    {
     "name": "stdout",
     "output_type": "stream",
     "text": [
      "55.400000000000006\n",
      "y**2\n",
      "8\n"
     ]
    }
   ],
   "source": [
    "y = 2\n",
    "print(eval('9/5*13 + 32'))\n",
    "print('y**2')\n",
    "print(eval('y+2*3'))"
   ]
  },
  {
   "cell_type": "markdown",
   "metadata": {},
   "source": [
    "### max(iterable, ...) or max(arg1, arg2, ...)\n",
    "- returns the largest item in an iterable or the largest of two or more arguments"
   ]
  },
  {
   "cell_type": "code",
   "execution_count": 39,
   "metadata": {},
   "outputs": [
    {
     "name": "stdout",
     "output_type": "stream",
     "text": [
      "max= 1000.5\n"
     ]
    }
   ],
   "source": [
    "print('max=', max(100, 8.9, 999, 1000.5))"
   ]
  },
  {
   "cell_type": "markdown",
   "metadata": {},
   "source": [
    "### min(arg1, arg2, ...)\n",
    "- returns the smallest of the the arguments (arg1, arg2...)"
   ]
  },
  {
   "cell_type": "code",
   "execution_count": 41,
   "metadata": {
    "scrolled": true
   },
   "outputs": [
    {
     "name": "stdout",
     "output_type": "stream",
     "text": [
      "min= 8.9\n"
     ]
    }
   ],
   "source": [
    "print('min=', min(100, 8.9, 999, 1000.5))"
   ]
  },
  {
   "cell_type": "code",
   "execution_count": 7,
   "metadata": {},
   "outputs": [
    {
     "name": "stdout",
     "output_type": "stream",
     "text": [
      "avg= 527.1\n"
     ]
    }
   ],
   "source": [
    "nums=[100,8.9, 999, 1000.5]\n",
    "print('avg=', sum(nums)/len(nums))"
   ]
  },
  {
   "cell_type": "markdown",
   "metadata": {},
   "source": [
    "### pow(base, exponent) \n",
    "- returns base to the power exponent"
   ]
  },
  {
   "cell_type": "code",
   "execution_count": 42,
   "metadata": {
    "scrolled": true
   },
   "outputs": [
    {
     "name": "stdout",
     "output_type": "stream",
     "text": [
      "2 to the power 3 = 8\n"
     ]
    },
    {
     "data": {
      "text/plain": [
       "8"
      ]
     },
     "execution_count": 42,
     "metadata": {},
     "output_type": "execute_result"
    }
   ],
   "source": [
    "print('2 to the power 3 =', pow(2, 3))\n",
    "2**3"
   ]
  },
  {
   "cell_type": "markdown",
   "metadata": {},
   "source": [
    "### print( )\n",
    "- print(*object, sep=' ', end='\\\\n', file=sys.stdout, flush=False) prototype\n",
    "- print takes many arguments and prints arbitrary number of values\n",
    "- below demos some print examples with different argument values"
   ]
  },
  {
   "cell_type": "code",
   "execution_count": 46,
   "metadata": {},
   "outputs": [
    {
     "name": "stdout",
     "output_type": "stream",
     "text": [
      "hihellonext line?\n",
      "hihello\n",
      "next line?\n"
     ]
    }
   ],
   "source": [
    "print('hi', 'hello', sep='', end='')\n",
    "print('next line?')\n",
    "print('hi', end='')\n",
    "print('hello')\n",
    "print('next line?')"
   ]
  },
  {
   "cell_type": "code",
   "execution_count": 50,
   "metadata": {},
   "outputs": [
    {
     "name": "stdout",
     "output_type": "stream",
     "text": [
      "hi hello\n",
      "next line?\n"
     ]
    }
   ],
   "source": [
    "print('hi', 'hello', sep=' ', end='\\n')\n",
    "print('next','line?', sep=' ')"
   ]
  },
  {
   "cell_type": "code",
   "execution_count": 56,
   "metadata": {},
   "outputs": [
    {
     "name": "stdout",
     "output_type": "stream",
     "text": [
      "Corn_Dawg.Dawg_Corn\n"
     ]
    }
   ],
   "source": [
    "str1 = \"Corn\"\n",
    "str2 = \"Dawg\"\n",
    "print(str1,str2,sep='_',end='.')\n",
    "print(str2,str1,sep='_')"
   ]
  },
  {
   "cell_type": "code",
   "execution_count": 7,
   "metadata": {},
   "outputs": [
    {
     "name": "stdout",
     "output_type": "stream",
     "text": [
      "hi$hello$1$2$3next line?\n"
     ]
    }
   ],
   "source": [
    "print('hi', 'hello', 1, 2, 3, sep='$', end='', flush=True)\n",
    "print('next line?')"
   ]
  },
  {
   "cell_type": "code",
   "execution_count": 4,
   "metadata": {},
   "outputs": [
    {
     "name": "stdout",
     "output_type": "stream",
     "text": [
      "hi\thello\n",
      "next line?\n"
     ]
    }
   ],
   "source": [
    "print('hi', 'hello', sep='\\t', end='\\n')\n",
    "print('next line?')"
   ]
  },
  {
   "cell_type": "markdown",
   "metadata": {},
   "source": [
    "## Kattis Problems\n",
    "\n",
    "### Buka\n",
    "- [https://open.kattis.com/problems/buka](https://open.kattis.com/problems/buka)\n",
    "- Hint: use eval() on 3 input strings\n",
    "\n",
    "### Ekki dauði opna inni\n",
    "- [https://open.kattis.com/problems/ekkidaudi](https://open.kattis.com/problems/ekkidaudi)\n",
    "- Hinit: use .split('|') method on string and just print\n",
    "\n"
   ]
  },
  {
   "cell_type": "code",
   "execution_count": 1,
   "metadata": {},
   "outputs": [
    {
     "ename": "SyntaxError",
     "evalue": "EOL while scanning string literal (<ipython-input-1-a88c1cf5e16b>, line 1)",
     "output_type": "error",
     "traceback": [
      "\u001b[0;36m  Input \u001b[0;32mIn [1]\u001b[0;36m\u001b[0m\n\u001b[0;31m    eval(\"1000\u001b[0m\n\u001b[0m              ^\u001b[0m\n\u001b[0;31mSyntaxError\u001b[0m\u001b[0;31m:\u001b[0m EOL while scanning string literal\n"
     ]
    }
   ],
   "source": []
  },
  {
   "cell_type": "code",
   "execution_count": null,
   "metadata": {},
   "outputs": [],
   "source": []
  }
 ],
 "metadata": {
  "kernelspec": {
   "display_name": "Python 3 (ipykernel)",
   "language": "python",
   "name": "python3"
  },
  "language_info": {
   "codemirror_mode": {
    "name": "ipython",
    "version": 3
   },
   "file_extension": ".py",
   "mimetype": "text/x-python",
   "name": "python",
   "nbconvert_exporter": "python",
   "pygments_lexer": "ipython3",
   "version": "3.10.8"
  }
 },
 "nbformat": 4,
 "nbformat_minor": 4
}
